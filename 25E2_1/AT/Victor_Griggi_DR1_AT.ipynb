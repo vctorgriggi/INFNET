{
 "cells": [
  {
   "cell_type": "markdown",
   "id": "762e26a9",
   "metadata": {},
   "source": [
    "##### AT - Inteligência Artificial: Model LifeCycle"
   ]
  },
  {
   "cell_type": "markdown",
   "id": "0fb02352",
   "metadata": {},
   "source": [
    "##### Questão 1. Estruturação conceitual do problema de modelagem"
   ]
  },
  {
   "cell_type": "code",
   "execution_count": 1,
   "id": "5f8a3f57",
   "metadata": {},
   "outputs": [],
   "source": [
    "# (a) - Compreensão do problema e reconhecimento do papel do aprendizado supervisionado neste cenário"
   ]
  },
  {
   "cell_type": "markdown",
   "id": "c02b3fb7",
   "metadata": {},
   "source": [
    "Neste trabalho, o objetivo é prever o risco de uma pessoa desenvolver diabetes com base em variáveis clínicas e comportamentais. Para isso, contamos com um conjunto de dados rotulado, em que cada instância está associada a um valor binário (Diabetes_binary), indicando a presença (1) ou ausência (0) da condição.\n",
    "\n",
    "Isso caracteriza uma tarefa de aprendizado supervisionado, pois estamos lidando com um conjunto de treinamento com rótulos conhecidos. O modelo aprende padrões a partir desses exemplos rotulados, com a finalidade de generalizar e prever o rótulo (risco de diabetes) em novos casos."
   ]
  },
  {
   "cell_type": "code",
   "execution_count": 2,
   "id": "138f1880",
   "metadata": {},
   "outputs": [],
   "source": [
    "# (b) - Justifique tecnicamente por que o problema em questão deve ser tratado como uma tarefa de classificação supervisionada."
   ]
  },
  {
   "cell_type": "markdown",
   "id": "bcb810c7",
   "metadata": {},
   "source": [
    "A variável-alvo (Diabetes_binary) é binária, o que implica que estamos lidando com duas classes distintas: presença ou ausência de diabetes. Além disso, todas as variáveis explicativas (como idade, IMC, nível de atividade física, histórico de saúde etc.) são fornecidas como entrada para tentar prever esse resultado.\n",
    "\n",
    "Logo, o problema naturalmente se encaixa na categoria de classificação supervisionada binária, pois:\n",
    "- Temos rótulos conhecidos no conjunto de treino;\n",
    "- A saída esperada é uma classe categórica (0 ou 1);\n",
    "- O foco é atribuir corretamente a classe a novas amostras com base nas variáveis preditoras."
   ]
  },
  {
   "cell_type": "code",
   "execution_count": 3,
   "id": "b50a1a2c",
   "metadata": {},
   "outputs": [],
   "source": [
    "# (c) - Identifique e discuta ao menos dois desafios relevantes para a aplicação de modelos de aprendizado supervisionado neste conjunto de dados."
   ]
  },
  {
   "cell_type": "markdown",
   "id": "734e6e92",
   "metadata": {},
   "source": [
    "1. Desequilíbrio entre classes\n",
    "- A quantidade de exemplos da classe \"sem diabetes\" (0) é significativamente maior que a da classe \"com diabetes\" (1). Isso pode levar os modelos a aprenderem padrões enviesados, privilegiando a classe majoritária e prejudicando a detecção de casos positivos.\n",
    "\n",
    "2. Normalização de dados\n",
    "- O dataset apresenta variáveis com escalas diferentes (por exemplo, idade e IMC vs. variáveis binárias). Alguns algoritmos, como KNN e regressão logística, são sensíveis à escala dos dados. Por isso, a normalização ou padronização se torna necessária para evitar que variáveis com maior magnitude dominem o processo de aprendizado."
   ]
  },
  {
   "cell_type": "code",
   "execution_count": 4,
   "id": "7c34117c",
   "metadata": {},
   "outputs": [],
   "source": [
    "# (d) - Liste e explique o uso das principais bibliotecas utilizadas no desenvolvimento do seu pipeline."
   ]
  },
  {
   "cell_type": "markdown",
   "id": "5a4c99fb",
   "metadata": {},
   "source": [
    "1. Pandas: utilizada para leitura, limpeza e manipulação do conjunto de dados. É a base para preparar o dataset antes da modelagem.\n",
    "\n",
    "2. NumPy: auxilia em operações matemáticas vetorizadas e manipulação de arrays, além de ser utilizada internamente por outras bibliotecas.\n",
    "\n",
    "3. Scikit-Learn (sklearn): biblioteca principal para a construção dos modelos de machine learning, incluindo algoritmos como KNN e regressão logística, bem como ferramentas para normalização (StandardScaler), avaliação (classification_report, roc_auc_score) e otimização (GridSearchCV).\n",
    "\n",
    "4. Matplotlib / Seaborn: utilizadas para visualização dos dados e resultados, como gráficos de barras, curvas ROC, ou distribuição de variáveis. Isso ajuda na análise exploratória e na comunicação dos resultados."
   ]
  },
  {
   "cell_type": "markdown",
   "id": "46c46028",
   "metadata": {},
   "source": [
    "##### Questão 2. Implementação do modelo com K-Nearest Neighbors"
   ]
  },
  {
   "cell_type": "code",
   "execution_count": 5,
   "id": "0b06dd0c",
   "metadata": {},
   "outputs": [],
   "source": [
    "# (a) - Carregamento dos dados e definição das variáveis"
   ]
  },
  {
   "cell_type": "code",
   "execution_count": 6,
   "id": "4bd5dff6",
   "metadata": {},
   "outputs": [],
   "source": [
    "import pandas as pd\n",
    "\n",
    "df = pd.read_csv(\"diabetes_binary_5050split_health_indicators_BRFSS2015.csv\")\n",
    "\n",
    "# Variável-alvo: Diabetes_binary (0 = não tem diabetes, 1 = tem diabetes)\n",
    "# Seleção de variáveis explicativas: todas as demais colunas, removendo a alvo\n",
    "X = df.drop(\"Diabetes_binary\", axis=1)\n",
    "y = df[\"Diabetes_binary\"]"
   ]
  },
  {
   "cell_type": "markdown",
   "id": "c5662cc9",
   "metadata": {},
   "source": [
    "Neste passo, carregamos a base de dados e selecionamos a variável alvo Diabetes_binary, que representa se o indivíduo possui (1) ou não (0) diagnóstico de diabetes. Todas as demais variáveis foram consideradas como preditoras, pois representam indicadores de saúde e estilo de vida relevantes."
   ]
  },
  {
   "cell_type": "code",
   "execution_count": 7,
   "id": "fc94b384",
   "metadata": {},
   "outputs": [],
   "source": [
    "# (b) - Separação dos dados em treino e teste"
   ]
  },
  {
   "cell_type": "code",
   "execution_count": 8,
   "id": "f87024f4",
   "metadata": {},
   "outputs": [],
   "source": [
    "from sklearn.model_selection import train_test_split\n",
    "\n",
    "# Separando dados com estratificação para preservar a proporção de classes\n",
    "X_train, X_test, y_train, y_test = train_test_split(\n",
    "    X, y, test_size=0.3, stratify=y, random_state=42\n",
    ")"
   ]
  },
  {
   "cell_type": "markdown",
   "id": "00216e45",
   "metadata": {},
   "source": [
    "Para avaliar o modelo de forma justa, dividimos os dados em treino e teste utilizando estratificação, o que garante a preservação da proporção de classes nas duas amostras. Isso é fundamental em contextos de classificação binária."
   ]
  },
  {
   "cell_type": "code",
   "execution_count": 9,
   "id": "5a566839",
   "metadata": {},
   "outputs": [],
   "source": [
    "# (c) - Normalização das variáveis numéricas"
   ]
  },
  {
   "cell_type": "code",
   "execution_count": 10,
   "id": "8b98a184",
   "metadata": {},
   "outputs": [],
   "source": [
    "from sklearn.preprocessing import StandardScaler\n",
    "\n",
    "scaler = StandardScaler()\n",
    "X_train_scaled = scaler.fit_transform(X_train)\n",
    "X_test_scaled = scaler.transform(X_test)"
   ]
  },
  {
   "cell_type": "markdown",
   "id": "156ddbf8",
   "metadata": {},
   "source": [
    "O KNN é sensível à escala das variáveis, pois baseia-se em distâncias para fazer classificações. Por isso, aplicamos normalização via StandardScaler, padronizando as variáveis numéricas para média 0 e desvio padrão 1."
   ]
  },
  {
   "cell_type": "code",
   "execution_count": 11,
   "id": "6e20f8f5",
   "metadata": {},
   "outputs": [],
   "source": [
    "# (d) - Treinamento do modelo e análise do parâmetro K"
   ]
  },
  {
   "cell_type": "markdown",
   "id": "3487e054",
   "metadata": {},
   "source": [
    "Inicialmente, treinamos o modelo com K=5, valor comumente adotado como referência. Avaliamos seu desempenho por meio do relatório de classificação."
   ]
  },
  {
   "cell_type": "code",
   "execution_count": 12,
   "id": "f8dc4648",
   "metadata": {},
   "outputs": [
    {
     "name": "stdout",
     "output_type": "stream",
     "text": [
      "Relatório de classificação (K = 5):\n",
      "              precision    recall  f1-score   support\n",
      "\n",
      "         0.0       0.72      0.69      0.70     10604\n",
      "         1.0       0.70      0.74      0.72     10604\n",
      "\n",
      "    accuracy                           0.71     21208\n",
      "   macro avg       0.71      0.71      0.71     21208\n",
      "weighted avg       0.71      0.71      0.71     21208\n",
      "\n"
     ]
    }
   ],
   "source": [
    "from sklearn.neighbors import KNeighborsClassifier\n",
    "from sklearn.metrics import classification_report\n",
    "import matplotlib.pyplot as plt\n",
    "import numpy as np\n",
    "from sklearn.model_selection import cross_val_score\n",
    "\n",
    "# Treinamento inicial com K=5\n",
    "knn = KNeighborsClassifier(n_neighbors=5)\n",
    "knn.fit(X_train_scaled, y_train)\n",
    "y_pred = knn.predict(X_test_scaled)\n",
    "\n",
    "print(\"Relatório de classificação (K = 5):\")\n",
    "print(classification_report(y_test, y_pred))"
   ]
  },
  {
   "cell_type": "markdown",
   "id": "d3c6f862",
   "metadata": {},
   "source": [
    "Em seguida, testamos vários valores de K (de 1 a 20), utilizando validação cruzada (5-fold) e F1-score como métrica principal. Isso permite verificar o impacto do valor de K na performance geral do modelo."
   ]
  },
  {
   "cell_type": "code",
   "execution_count": 13,
   "id": "dce4bc5f",
   "metadata": {},
   "outputs": [
    {
     "data": {
      "image/png": "[encoded data removed]",
      "text/plain": [
       "<Figure size 1000x500 with 1 Axes>"
      ]
     },
     "metadata": {},
     "output_type": "display_data"
    },
    {
     "name": "stdout",
     "output_type": "stream",
     "text": [
      "Melhor valor de K: 19\n",
      "F1-score médio correspondente: 0.7441\n"
     ]
    }
   ],
   "source": [
    "# Avaliação do impacto da escolha do parâmetro K (1 a 20)\n",
    "k_values = list(range(1, 21))\n",
    "f1_scores = []\n",
    "\n",
    "for k in k_values:\n",
    "    model = KNeighborsClassifier(n_neighbors=k)\n",
    "    scores = cross_val_score(model, X_train_scaled, y_train, cv=5, scoring='f1')\n",
    "    f1_scores.append(np.mean(scores))\n",
    "\n",
    "best_k = k_values[np.argmax(f1_scores)]\n",
    "best_score = max(f1_scores)\n",
    "\n",
    "# Gráfico\n",
    "plt.figure(figsize=(10,5))\n",
    "plt.plot(k_values, f1_scores, marker='o')\n",
    "plt.axvline(x=best_k, color='red', linestyle='--', label=f'Melhor K = {best_k}')\n",
    "plt.xlabel(\"Valor de K\")\n",
    "plt.ylabel(\"F1-score médio (5-fold)\")\n",
    "plt.title(\"Impacto da escolha de K no desempenho do KNN\")\n",
    "plt.grid(alpha=0.3)\n",
    "plt.legend()\n",
    "plt.tight_layout()\n",
    "plt.show()\n",
    "\n",
    "print(f\"Melhor valor de K: {best_k}\")\n",
    "print(f\"F1-score médio correspondente: {best_score:.4f}\")"
   ]
  },
  {
   "cell_type": "markdown",
   "id": "153bbacb",
   "metadata": {},
   "source": [
    "O melhor desempenho foi obtido com K = 19, alcançando um F1-score médio de 0.7441, conforme evidenciado no gráfico acima. Isso indica que valores mais altos de K suavizaram a decisão do classificador, reduzindo a sensibilidade a ruídos e melhorando a generalização.\n",
    "\n",
    "Valores baixos de K tendem a causar overfitting, enquanto valores muito altos podem levar a underfitting. O valor ótimo encontrado representou o melhor equilíbrio entre esses dois extremos."
   ]
  },
  {
   "cell_type": "markdown",
   "id": "26fd5c96",
   "metadata": {},
   "source": [
    "##### Questão 3. Validação cruzada e comparação entre modelos"
   ]
  },
  {
   "cell_type": "code",
   "execution_count": 14,
   "id": "ef439b61",
   "metadata": {},
   "outputs": [],
   "source": [
    "# (a) - Aplicação de validação cruzada ao modelo KNN"
   ]
  },
  {
   "cell_type": "markdown",
   "id": "17a772d7",
   "metadata": {},
   "source": [
    "Aplicamos a validação cruzada com 5 dobras (5-fold) no modelo KNN com o melhor valor de K identificado na etapa anterior. A métrica utilizada foi o F1-score, pois ela é mais robusta em contextos de desbalanceamento entre as classes (como é o caso desta base)."
   ]
  },
  {
   "cell_type": "code",
   "execution_count": 15,
   "id": "6ad8f897",
   "metadata": {},
   "outputs": [
    {
     "name": "stdout",
     "output_type": "stream",
     "text": [
      "F1-score médio (KNN): 0.7441\n"
     ]
    }
   ],
   "source": [
    "from sklearn.model_selection import cross_val_score\n",
    "from sklearn.neighbors import KNeighborsClassifier\n",
    "import numpy as np\n",
    "\n",
    "knn = KNeighborsClassifier(n_neighbors=best_k)\n",
    "\n",
    "knn_scores = cross_val_score(knn, X_train_scaled, y_train, cv=5, scoring='f1')\n",
    "knn_f1_mean = np.mean(knn_scores)\n",
    "print(\"F1-score médio (KNN):\", round(knn_f1_mean, 4))"
   ]
  },
  {
   "cell_type": "markdown",
   "id": "87d90588",
   "metadata": {},
   "source": [
    "A validação cruzada, especialmente a do tipo k-fold (com 5 dobras neste caso), contribui para uma estimativa mais realista e robusta do desempenho do modelo. Isso ocorre porque o modelo é treinado e avaliado múltiplas vezes com diferentes subconjuntos dos dados, o que reduz o viés da divisão treino-teste única e melhora a generalização.\n",
    "\n",
    "Em contextos com dados desbalanceadosm, tal qual nessa base de triagem de diabetes, ela é ainda mais valiosa, pois ajuda a garantir que a métrica de avaliação (como o F1-score) reflita o desempenho médio esperado do modelo ao ser aplicado a novos dados."
   ]
  },
  {
   "cell_type": "code",
   "execution_count": 16,
   "id": "1d3e94d0",
   "metadata": {},
   "outputs": [],
   "source": [
    "# (b) - Implementação de um segundo modelo com o mesmo processo"
   ]
  },
  {
   "cell_type": "markdown",
   "id": "74c37790",
   "metadata": {},
   "source": [
    "Selecionamos dois modelos adicionais para comparação:\n",
    "- Regressão Logística, conhecida por sua simplicidade e boa capacidade de generalização;\n",
    "- Árvore de Decisão, que tende a ter menor viés, porém maior risco de overfitting."
   ]
  },
  {
   "cell_type": "code",
   "execution_count": 17,
   "id": "23edfd06",
   "metadata": {},
   "outputs": [
    {
     "name": "stdout",
     "output_type": "stream",
     "text": [
      "F1-score médio (Regressão Logística): 0.7523\n",
      "F1-score médio (Árvore de Decisão): 0.6512\n"
     ]
    }
   ],
   "source": [
    "from sklearn.linear_model import LogisticRegression\n",
    "from sklearn.tree import DecisionTreeClassifier\n",
    "\n",
    "# Regressão Logística\n",
    "log_model = LogisticRegression(max_iter=1000)\n",
    "log_scores = cross_val_score(log_model, X_train_scaled, y_train, cv=5, scoring='f1')\n",
    "log_f1_mean = np.mean(log_scores)\n",
    "\n",
    "# Árvore de Decisão\n",
    "tree_model = DecisionTreeClassifier(random_state=42)\n",
    "tree_scores = cross_val_score(tree_model, X_train_scaled, y_train, cv=5, scoring='f1')\n",
    "tree_f1_mean = np.mean(tree_scores)\n",
    "\n",
    "print(\"F1-score médio (Regressão Logística):\", round(log_f1_mean, 4))\n",
    "print(\"F1-score médio (Árvore de Decisão):\", round(tree_f1_mean, 4))"
   ]
  },
  {
   "cell_type": "code",
   "execution_count": 18,
   "id": "78ba1148",
   "metadata": {},
   "outputs": [],
   "source": [
    "# (c) - Comparação dos modelos com base na validação cruzada"
   ]
  },
  {
   "cell_type": "markdown",
   "id": "53e3b97b",
   "metadata": {},
   "source": [
    "A tabela a seguir resume os F1-scores médios obtidos na validação cruzada com 5 dobras:"
   ]
  },
  {
   "cell_type": "code",
   "execution_count": 19,
   "id": "f34fa8d3",
   "metadata": {},
   "outputs": [
    {
     "data": {
      "text/html": [
       "<div>\n",
       "<style scoped>\n",
       "    .dataframe tbody tr th:only-of-type {\n",
       "        vertical-align: middle;\n",
       "    }\n",
       "\n",
       "    .dataframe tbody tr th {\n",
       "        vertical-align: top;\n",
       "    }\n",
       "\n",
       "    .dataframe thead th {\n",
       "        text-align: right;\n",
       "    }\n",
       "</style>\n",
       "<table border=\"1\" class=\"dataframe\">\n",
       "  <thead>\n",
       "    <tr style=\"text-align: right;\">\n",
       "      <th></th>\n",
       "      <th>Modelo</th>\n",
       "      <th>F1-score médio</th>\n",
       "    </tr>\n",
       "  </thead>\n",
       "  <tbody>\n",
       "    <tr>\n",
       "      <th>0</th>\n",
       "      <td>Regressão Logística</td>\n",
       "      <td>0.752336</td>\n",
       "    </tr>\n",
       "    <tr>\n",
       "      <th>1</th>\n",
       "      <td>K-Nearest Neighbors</td>\n",
       "      <td>0.744052</td>\n",
       "    </tr>\n",
       "    <tr>\n",
       "      <th>2</th>\n",
       "      <td>Árvore de Decisão</td>\n",
       "      <td>0.651156</td>\n",
       "    </tr>\n",
       "  </tbody>\n",
       "</table>\n",
       "</div>"
      ],
      "text/plain": [
       "                Modelo  F1-score médio\n",
       "0  Regressão Logística        0.752336\n",
       "1  K-Nearest Neighbors        0.744052\n",
       "2    Árvore de Decisão        0.651156"
      ]
     },
     "metadata": {},
     "output_type": "display_data"
    }
   ],
   "source": [
    "import pandas as pd\n",
    "\n",
    "tabela_resultados = pd.DataFrame({\n",
    "    'Modelo': ['Regressão Logística', 'K-Nearest Neighbors', 'Árvore de Decisão'],\n",
    "    'F1-score médio': [log_f1_mean, knn_f1_mean, tree_f1_mean]\n",
    "})\n",
    "\n",
    "display(tabela_resultados)"
   ]
  },
  {
   "cell_type": "markdown",
   "id": "f2779c7b",
   "metadata": {},
   "source": [
    "A partir desses resultados, observamos que a Regressão Logística apresentou o melhor desempenho médio em termos de F1-score, seguida de perto pelo modelo KNN. A Árvore de Decisão teve o pior desempenho, o que pode estar relacionado a maior variação entre as predições e uma tendência ao overfitting em problemas com muitos atributos e dados ruidosos."
   ]
  },
  {
   "cell_type": "code",
   "execution_count": 20,
   "id": "06c95402",
   "metadata": {},
   "outputs": [],
   "source": [
    "# (d) - Discussão sobre overfitting e underfitting"
   ]
  },
  {
   "cell_type": "markdown",
   "id": "d381830f",
   "metadata": {},
   "source": [
    "Com base na validação cruzada, é possível observar padrões importantes sobre viés e variância entre os modelos testados:\n",
    "\n",
    "1. Regressão Logística obteve o desempenho mais estável. Trata-se de um modelo com alto viés e baixa variância, o que geralmente resulta em boa generalização, como demonstrado pelo seu maior F1-score médio. Isso sugere baixo risco de overfitting e um equilíbrio entre simplicidade e desempenho.\n",
    "\n",
    "2. KNN apresentou desempenho semelhante ao da regressão, porém com ligeira queda no F1-score. Isso é esperado em modelos de menor viés e maior variância, principalmente quando o valor de K é alto\n",
    "\n",
    "3. Árvore de Decisão, por outro lado, teve desempenho significativamente inferior, o que pode indicar overfitting. Esse tipo de modelo tende a memorizar os dados de treino, especialmente se não for podado ou regularizado, o que compromete sua capacidade de generalização.\n",
    "Logo, a REgressão Logística se destaca como a abordagem mais robusta neste cenário, sendo a mais indicada para generalização a novos dados."
   ]
  },
  {
   "cell_type": "markdown",
   "id": "4448e555",
   "metadata": {},
   "source": [
    "##### Questão 4. Avaliação final e otimização do desempenho preditivo"
   ]
  },
  {
   "cell_type": "code",
   "execution_count": 21,
   "id": "f6505d68",
   "metadata": {},
   "outputs": [],
   "source": [
    "# (a) - Cálculo das métricas de avaliação: precisão, recall, F1-score e AUC"
   ]
  },
  {
   "cell_type": "code",
   "execution_count": 22,
   "id": "39c71992",
   "metadata": {},
   "outputs": [
    {
     "data": {
      "text/html": [
       "<div>\n",
       "<style scoped>\n",
       "    .dataframe tbody tr th:only-of-type {\n",
       "        vertical-align: middle;\n",
       "    }\n",
       "\n",
       "    .dataframe tbody tr th {\n",
       "        vertical-align: top;\n",
       "    }\n",
       "\n",
       "    .dataframe thead th {\n",
       "        text-align: right;\n",
       "    }\n",
       "</style>\n",
       "<table border=\"1\" class=\"dataframe\">\n",
       "  <thead>\n",
       "    <tr style=\"text-align: right;\">\n",
       "      <th></th>\n",
       "      <th>precision</th>\n",
       "      <th>recall</th>\n",
       "      <th>f1-score</th>\n",
       "      <th>support</th>\n",
       "      <th>AUC</th>\n",
       "    </tr>\n",
       "  </thead>\n",
       "  <tbody>\n",
       "    <tr>\n",
       "      <th>0.0</th>\n",
       "      <td>0.760427</td>\n",
       "      <td>0.725575</td>\n",
       "      <td>0.742592</td>\n",
       "      <td>10604.000000</td>\n",
       "      <td>0.823956</td>\n",
       "    </tr>\n",
       "    <tr>\n",
       "      <th>1.0</th>\n",
       "      <td>0.737601</td>\n",
       "      <td>0.771407</td>\n",
       "      <td>0.754126</td>\n",
       "      <td>10604.000000</td>\n",
       "      <td>0.823956</td>\n",
       "    </tr>\n",
       "    <tr>\n",
       "      <th>accuracy</th>\n",
       "      <td>0.748491</td>\n",
       "      <td>0.748491</td>\n",
       "      <td>0.748491</td>\n",
       "      <td>0.748491</td>\n",
       "      <td>0.823956</td>\n",
       "    </tr>\n",
       "    <tr>\n",
       "      <th>macro avg</th>\n",
       "      <td>0.749014</td>\n",
       "      <td>0.748491</td>\n",
       "      <td>0.748359</td>\n",
       "      <td>21208.000000</td>\n",
       "      <td>0.823956</td>\n",
       "    </tr>\n",
       "    <tr>\n",
       "      <th>weighted avg</th>\n",
       "      <td>0.749014</td>\n",
       "      <td>0.748491</td>\n",
       "      <td>0.748359</td>\n",
       "      <td>21208.000000</td>\n",
       "      <td>0.823956</td>\n",
       "    </tr>\n",
       "  </tbody>\n",
       "</table>\n",
       "</div>"
      ],
      "text/plain": [
       "              precision    recall  f1-score       support       AUC\n",
       "0.0            0.760427  0.725575  0.742592  10604.000000  0.823956\n",
       "1.0            0.737601  0.771407  0.754126  10604.000000  0.823956\n",
       "accuracy       0.748491  0.748491  0.748491      0.748491  0.823956\n",
       "macro avg      0.749014  0.748491  0.748359  21208.000000  0.823956\n",
       "weighted avg   0.749014  0.748491  0.748359  21208.000000  0.823956"
      ]
     },
     "metadata": {},
     "output_type": "display_data"
    }
   ],
   "source": [
    "from sklearn.metrics import classification_report, roc_auc_score, confusion_matrix\n",
    "log_model.fit(X_train_scaled, y_train)\n",
    "y_pred = log_model.predict(X_test_scaled)\n",
    "y_prob = log_model.predict_proba(X_test_scaled)[:, 1]\n",
    "\n",
    "report = classification_report(y_test, y_pred, output_dict=True)\n",
    "auc = roc_auc_score(y_test, y_prob)\n",
    "\n",
    "import pandas as pd\n",
    "metrics_df = pd.DataFrame(report).transpose()\n",
    "metrics_df = metrics_df.loc[['0.0', '1.0', 'accuracy', 'macro avg', 'weighted avg']]\n",
    "metrics_df['AUC'] = auc\n",
    "\n",
    "from IPython.display import display\n",
    "display(metrics_df)"
   ]
  },
  {
   "cell_type": "markdown",
   "id": "3de72b56",
   "metadata": {},
   "source": [
    "Explicação:\n",
    "- **Precisão (Precision)**: Mede a proporção de positivos previstos que são realmente positivos. Alta precisão significa que há poucos falsos positivos, algo importante em contextos onde o custo de um alarme falso é alto.\n",
    "- **Revocação (Recall)**: Mede a proporção de positivos reais que foram corretamente identificados. Alta revocação é desejável em triagens de saúde, pois minimiza falsos negativos (pacientes doentes que não são identificados).\n",
    "- **F1-score**: Média harmônica entre precisão e recall. Útil em cenários desbalanceados, como é o caso desta base.\n",
    "- **AUC (Área sob a curva ROC)**: Mede a capacidade do modelo em distinguir entre as classes. Quanto mais próximo de 1, melhor o desempenho geral em classificar corretamente positivos e negativos."
   ]
  },
  {
   "cell_type": "code",
   "execution_count": 23,
   "id": "05a5084f",
   "metadata": {},
   "outputs": [],
   "source": [
    "# (b) - Matriz de confusão e interpretação dos erros"
   ]
  },
  {
   "cell_type": "code",
   "execution_count": 24,
   "id": "1dcf085a",
   "metadata": {},
   "outputs": [
    {
     "data": {
      "image/png": "[encoded data removed]",
      "text/plain": [
       "<Figure size 640x480 with 2 Axes>"
      ]
     },
     "metadata": {},
     "output_type": "display_data"
    }
   ],
   "source": [
    "from sklearn.metrics import ConfusionMatrixDisplay\n",
    "\n",
    "cm = confusion_matrix(y_test, y_pred)\n",
    "disp = ConfusionMatrixDisplay(confusion_matrix=cm, display_labels=log_model.classes_)\n",
    "disp.plot(cmap='Purples', values_format='d')\n",
    "plt.title(\"Matriz de Confusão - Regressão Logística\")\n",
    "plt.grid(False)\n",
    "plt.show()"
   ]
  },
  {
   "cell_type": "markdown",
   "id": "943f7382",
   "metadata": {},
   "source": [
    "A matriz de confusão permite identificar os acertos e erros do modelo. Nela, os falsos negativos (doentes classificados como saudáveis) são especialmente preocupantes no contexto de triagem em saúde pública, pois podem deixar pacientes sem o tratamento necessário. Falsos positivos também geram impacto, como exames ou intervenções desnecessárias."
   ]
  },
  {
   "cell_type": "code",
   "execution_count": 25,
   "id": "3fb4503c",
   "metadata": {},
   "outputs": [],
   "source": [
    "# (c) - Busca por hiperparâmetros"
   ]
  },
  {
   "cell_type": "code",
   "execution_count": 26,
   "id": "e8d01bb5",
   "metadata": {},
   "outputs": [
    {
     "name": "stdout",
     "output_type": "stream",
     "text": [
      "Melhor configuração encontrada: {'C': 1, 'max_iter': 1000, 'penalty': 'l2', 'solver': 'lbfgs'}\n",
      "Melhor F1-score na validação cruzada: 0.7523\n"
     ]
    }
   ],
   "source": [
    "from sklearn.model_selection import GridSearchCV\n",
    "from sklearn.linear_model import LogisticRegression\n",
    "\n",
    "param_grid = {\n",
    "    'penalty': ['l2'],\n",
    "    'C': [0.01, 0.1, 1, 10],\n",
    "    'solver': ['liblinear', 'lbfgs'],\n",
    "    'max_iter': [1000]\n",
    "}\n",
    "\n",
    "grid = GridSearchCV(LogisticRegression(), param_grid, cv=5, scoring='f1', n_jobs=-1)\n",
    "grid.fit(X_train_scaled, y_train)\n",
    "\n",
    "best_params = grid.best_params_\n",
    "best_score = grid.best_score_\n",
    "\n",
    "print(\"Melhor configuração encontrada:\", best_params)\n",
    "print(f\"Melhor F1-score na validação cruzada: {best_score:.4f}\")"
   ]
  },
  {
   "cell_type": "markdown",
   "id": "817640c4",
   "metadata": {},
   "source": [
    "A busca por hiperparâmetros visa encontrar a configuração mais adequada para maximizar o desempenho do modelo. Aqui, utilizamos o GridSearchCV com validação cruzada e F1-score como métrica de avaliação, garantindo robustez na escolha final."
   ]
  },
  {
   "cell_type": "code",
   "execution_count": 27,
   "id": "c1f0ccd2",
   "metadata": {},
   "outputs": [],
   "source": [
    "# (d) - Comparação do desempenho antes e depois da otimização"
   ]
  },
  {
   "cell_type": "code",
   "execution_count": 28,
   "id": "20ad49bc",
   "metadata": {},
   "outputs": [
    {
     "data": {
      "text/html": [
       "<div>\n",
       "<style scoped>\n",
       "    .dataframe tbody tr th:only-of-type {\n",
       "        vertical-align: middle;\n",
       "    }\n",
       "\n",
       "    .dataframe tbody tr th {\n",
       "        vertical-align: top;\n",
       "    }\n",
       "\n",
       "    .dataframe thead th {\n",
       "        text-align: right;\n",
       "    }\n",
       "</style>\n",
       "<table border=\"1\" class=\"dataframe\">\n",
       "  <thead>\n",
       "    <tr style=\"text-align: right;\">\n",
       "      <th></th>\n",
       "      <th>Precisão (Base)</th>\n",
       "      <th>Revocação (Base)</th>\n",
       "      <th>F1-score (Base)</th>\n",
       "      <th>AUC (Base)</th>\n",
       "      <th>Precisão (Otimizado)</th>\n",
       "      <th>Revocação (Otimizado)</th>\n",
       "      <th>F1-score (Otimizado)</th>\n",
       "      <th>AUC (Otimizado)</th>\n",
       "    </tr>\n",
       "  </thead>\n",
       "  <tbody>\n",
       "    <tr>\n",
       "      <th>0.0</th>\n",
       "      <td>0.760427</td>\n",
       "      <td>0.725575</td>\n",
       "      <td>0.742592</td>\n",
       "      <td>0.823956</td>\n",
       "      <td>0.760427</td>\n",
       "      <td>0.725575</td>\n",
       "      <td>0.742592</td>\n",
       "      <td>0.823956</td>\n",
       "    </tr>\n",
       "    <tr>\n",
       "      <th>1.0</th>\n",
       "      <td>0.737601</td>\n",
       "      <td>0.771407</td>\n",
       "      <td>0.754126</td>\n",
       "      <td>0.823956</td>\n",
       "      <td>0.737601</td>\n",
       "      <td>0.771407</td>\n",
       "      <td>0.754126</td>\n",
       "      <td>0.823956</td>\n",
       "    </tr>\n",
       "    <tr>\n",
       "      <th>accuracy</th>\n",
       "      <td>0.748491</td>\n",
       "      <td>0.748491</td>\n",
       "      <td>0.748491</td>\n",
       "      <td>0.823956</td>\n",
       "      <td>0.748491</td>\n",
       "      <td>0.748491</td>\n",
       "      <td>0.748491</td>\n",
       "      <td>0.823956</td>\n",
       "    </tr>\n",
       "    <tr>\n",
       "      <th>macro avg</th>\n",
       "      <td>0.749014</td>\n",
       "      <td>0.748491</td>\n",
       "      <td>0.748359</td>\n",
       "      <td>0.823956</td>\n",
       "      <td>0.749014</td>\n",
       "      <td>0.748491</td>\n",
       "      <td>0.748359</td>\n",
       "      <td>0.823956</td>\n",
       "    </tr>\n",
       "    <tr>\n",
       "      <th>weighted avg</th>\n",
       "      <td>0.749014</td>\n",
       "      <td>0.748491</td>\n",
       "      <td>0.748359</td>\n",
       "      <td>0.823956</td>\n",
       "      <td>0.749014</td>\n",
       "      <td>0.748491</td>\n",
       "      <td>0.748359</td>\n",
       "      <td>0.823956</td>\n",
       "    </tr>\n",
       "  </tbody>\n",
       "</table>\n",
       "</div>"
      ],
      "text/plain": [
       "              Precisão (Base)  Revocação (Base)  F1-score (Base)  AUC (Base)  \\\n",
       "0.0                  0.760427          0.725575         0.742592    0.823956   \n",
       "1.0                  0.737601          0.771407         0.754126    0.823956   \n",
       "accuracy             0.748491          0.748491         0.748491    0.823956   \n",
       "macro avg            0.749014          0.748491         0.748359    0.823956   \n",
       "weighted avg         0.749014          0.748491         0.748359    0.823956   \n",
       "\n",
       "              Precisão (Otimizado)  Revocação (Otimizado)  \\\n",
       "0.0                       0.760427               0.725575   \n",
       "1.0                       0.737601               0.771407   \n",
       "accuracy                  0.748491               0.748491   \n",
       "macro avg                 0.749014               0.748491   \n",
       "weighted avg              0.749014               0.748491   \n",
       "\n",
       "              F1-score (Otimizado)  AUC (Otimizado)  \n",
       "0.0                       0.742592         0.823956  \n",
       "1.0                       0.754126         0.823956  \n",
       "accuracy                  0.748491         0.823956  \n",
       "macro avg                 0.748359         0.823956  \n",
       "weighted avg              0.748359         0.823956  "
      ]
     },
     "metadata": {},
     "output_type": "display_data"
    }
   ],
   "source": [
    "best_model = grid.best_estimator_\n",
    "y_pred_opt = best_model.predict(X_test_scaled)\n",
    "y_prob_opt = best_model.predict_proba(X_test_scaled)[:, 1]\n",
    "\n",
    "report_opt = classification_report(y_test, y_pred_opt, output_dict=True)\n",
    "auc_opt = roc_auc_score(y_test, y_prob_opt)\n",
    "\n",
    "# Comparação em DataFrame\n",
    "opt_df = pd.DataFrame(report_opt).transpose()\n",
    "opt_df = opt_df.loc[['0.0', '1.0', 'accuracy', 'macro avg', 'weighted avg']]\n",
    "opt_df['AUC'] = auc_opt\n",
    "\n",
    "base_df = metrics_df[['precision', 'recall', 'f1-score', 'AUC']].rename(columns={\n",
    "    'precision': 'Precisão (Base)',\n",
    "    'recall': 'Revocação (Base)',\n",
    "    'f1-score': 'F1-score (Base)',\n",
    "    'AUC': 'AUC (Base)'\n",
    "})\n",
    "\n",
    "opt_df = opt_df[['precision', 'recall', 'f1-score', 'AUC']].rename(columns={\n",
    "    'precision': 'Precisão (Otimizado)',\n",
    "    'recall': 'Revocação (Otimizado)',\n",
    "    'f1-score': 'F1-score (Otimizado)',\n",
    "    'AUC': 'AUC (Otimizado)'\n",
    "})\n",
    "\n",
    "comparison = pd.concat([base_df, opt_df], axis=1)\n",
    "display(comparison)"
   ]
  },
  {
   "cell_type": "markdown",
   "id": "d4b81ca1",
   "metadata": {},
   "source": [
    "Os resultados do modelo otimizado coincidem com os obtidos anteriormente, pois a configuração original da Regressão Logística (C=1, penalty='l2', solver='lbfgs') já correspondia à melhor combinação identificada pelo GridSearchCV. Isso reforça a robustez e a boa escolha inicial do modelo."
   ]
  }
 ],
 "metadata": {
  "kernelspec": {
   "display_name": "venv",
   "language": "python",
   "name": "python3"
  },
  "language_info": {
   "codemirror_mode": {
    "name": "ipython",
    "version": 3
   },
   "file_extension": ".py",
   "mimetype": "text/x-python",
   "name": "python",
   "nbconvert_exporter": "python",
   "pygments_lexer": "ipython3",
   "version": "3.9.6"
  }
 },
 "nbformat": 4,
 "nbformat_minor": 5
}
